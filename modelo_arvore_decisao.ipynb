{
 "cells": [
  {
   "cell_type": "markdown",
   "metadata": {},
   "source": [
    "### REGRESSÃO COM ÁRVORE DE DECISÃO"
   ]
  },
  {
   "cell_type": "markdown",
   "metadata": {},
   "source": [
    "### Importando Bibliotecas"
   ]
  },
  {
   "cell_type": "code",
   "execution_count": 20,
   "metadata": {},
   "outputs": [],
   "source": [
    "import pandas as pd\n",
    "import numpy as np\n",
    "from sklearn.model_selection import train_test_split\n",
    "from sklearn.tree import DecisionTreeRegressor\n",
    "from sklearn.metrics import mean_absolute_error, mean_squared_error\n",
    "from sklearn.model_selection import KFold, cross_val_score"
   ]
  },
  {
   "cell_type": "markdown",
   "metadata": {},
   "source": [
    "#### Base de dados "
   ]
  },
  {
   "cell_type": "code",
   "execution_count": 21,
   "metadata": {},
   "outputs": [
    {
     "data": {
      "text/html": [
       "<div>\n",
       "<style scoped>\n",
       "    .dataframe tbody tr th:only-of-type {\n",
       "        vertical-align: middle;\n",
       "    }\n",
       "\n",
       "    .dataframe tbody tr th {\n",
       "        vertical-align: top;\n",
       "    }\n",
       "\n",
       "    .dataframe thead th {\n",
       "        text-align: right;\n",
       "    }\n",
       "</style>\n",
       "<table border=\"1\" class=\"dataframe\">\n",
       "  <thead>\n",
       "    <tr style=\"text-align: right;\">\n",
       "      <th></th>\n",
       "      <th>RM</th>\n",
       "      <th>LSTAT</th>\n",
       "      <th>PTRATIO</th>\n",
       "      <th>MEDV</th>\n",
       "    </tr>\n",
       "  </thead>\n",
       "  <tbody>\n",
       "    <tr>\n",
       "      <th>0</th>\n",
       "      <td>6.575</td>\n",
       "      <td>4.98</td>\n",
       "      <td>15.3</td>\n",
       "      <td>504000.0</td>\n",
       "    </tr>\n",
       "    <tr>\n",
       "      <th>1</th>\n",
       "      <td>6.421</td>\n",
       "      <td>9.14</td>\n",
       "      <td>17.8</td>\n",
       "      <td>453600.0</td>\n",
       "    </tr>\n",
       "  </tbody>\n",
       "</table>\n",
       "</div>"
      ],
      "text/plain": [
       "      RM  LSTAT  PTRATIO      MEDV\n",
       "0  6.575   4.98     15.3  504000.0\n",
       "1  6.421   9.14     17.8  453600.0"
      ]
     },
     "execution_count": 21,
     "metadata": {},
     "output_type": "execute_result"
    }
   ],
   "source": [
    "df = pd.read_csv(\"housing.csv\", sep=\",\", encoding=\"iso-8859-1\")\n",
    "df.head(2)"
   ]
  },
  {
   "cell_type": "code",
   "execution_count": 22,
   "metadata": {},
   "outputs": [
    {
     "data": {
      "text/plain": [
       "array([[ 6.575,  4.98 , 15.3  ],\n",
       "       [ 6.421,  9.14 , 17.8  ],\n",
       "       [ 7.185,  4.03 , 17.8  ],\n",
       "       ...,\n",
       "       [ 6.976,  5.64 , 21.   ],\n",
       "       [ 6.794,  6.48 , 21.   ],\n",
       "       [ 6.03 ,  7.88 , 21.   ]])"
      ]
     },
     "execution_count": 22,
     "metadata": {},
     "output_type": "execute_result"
    }
   ],
   "source": [
    "independente = df.iloc[:, 0:3].values\n",
    "independente"
   ]
  },
  {
   "cell_type": "code",
   "execution_count": 23,
   "metadata": {},
   "outputs": [
    {
     "data": {
      "text/plain": [
       "(489, 3)"
      ]
     },
     "execution_count": 23,
     "metadata": {},
     "output_type": "execute_result"
    }
   ],
   "source": [
    "independente.shape"
   ]
  },
  {
   "cell_type": "code",
   "execution_count": 24,
   "metadata": {},
   "outputs": [
    {
     "data": {
      "text/plain": [
       "array([ 504000.,  453600.,  728700.,  701400.,  760200.,  602700.,\n",
       "        480900.,  569100.,  346500.,  396900.,  315000.,  396900.,\n",
       "        455700.,  428400.,  382200.,  417900.,  485100.,  367500.,\n",
       "        424200.,  382200.,  285600.,  411600.,  319200.,  304500.,\n",
       "        327600.,  291900.,  348600.,  310800.,  386400.,  441000.,\n",
       "        266700.,  304500.,  277200.,  275100.,  283500.,  396900.,\n",
       "        420000.,  441000.,  518700.,  646800.,  732900.,  558600.,\n",
       "        531300.,  518700.,  445200.,  405300.,  420000.,  348600.,\n",
       "        302400.,  407400.,  413700.,  430500.,  525000.,  491400.,\n",
       "        396900.,  743400.,  518700.,  663600.,  489300.,  411600.,\n",
       "        392700.,  336000.,  466200.,  525000.,  693000.,  493500.,\n",
       "        407400.,  462000.,  365400.,  438900.,  508200.,  455700.,\n",
       "        478800.,  491400.,  506100.,  449400.,  420000.,  436800.,\n",
       "        445200.,  426300.,  588000.,  501900.,  520800.,  480900.,\n",
       "        501900.,  558600.,  472500.,  466200.,  495600.,  602700.,\n",
       "        474600.,  462000.,  480900.,  525000.,  432600.,  596400.,\n",
       "        449400.,  812700.,  919800.,  697200.,  577500.,  556500.,\n",
       "        390600.,  405300.,  422100.,  409500.,  409500.,  428400.,\n",
       "        415800.,  407400.,  455700.,  478800.,  394800.,  392700.,\n",
       "        388500.,  384300.,  445200.,  403200.,  428400.,  405300.,\n",
       "        462000.,  426300.,  430500.,  363300.,  394800.,  449400.,\n",
       "        329700.,  340200.,  378000.,  300300.,  403200.,  411600.,\n",
       "        483000.,  386400.,  327600.,  380100.,  365400.,  359100.,\n",
       "        279300.,  373800.,  294000.,  302400.,  281400.,  327600.,\n",
       "        247800.,  289800.,  327600.,  306600.,  373800.,  323400.,\n",
       "        451500.,  411600.,  321300.,  407400.,  357000.,  327600.,\n",
       "        275100.,  867300.,  510300.,  489300.,  567000.,  476700.,\n",
       "        525000.,  499800.,  499800.,  468300.,  365400.,  401100.,\n",
       "        485100.,  495600.,  474600.,  617400.,  487200.,  516600.,\n",
       "        627900.,  781200.,  835800.,  760200.,  795900.,  682500.,\n",
       "        554400.,  621600.,  672000.,  625800.,  732900.,  777000.,\n",
       "        640500.,  764400.,  653100.,  611100.,  699300.,  636300.,\n",
       "        726600.,  732900.,  690900.,  506100.,  888300., 1018500.,\n",
       "        474600.,  512400.,  472500.,  512400.,  420000.,  455700.,\n",
       "        405300.,  470400.,  590100.,  497700.,  525000.,  489300.,\n",
       "        602700.,  451500.,  483000.,  560700.,  455700.,  577500.,\n",
       "        632100.,  940800.,  789600.,  663600.,  980700.,  661500.,\n",
       "        510300.,  665700.,  875700., 1014300.,  609000.,  504000.,\n",
       "        527100.,  661500.,  497700.,  489300.,  462000.,  422100.,\n",
       "        466200.,  497700.,  369600.,  388500.,  510300.,  430500.,\n",
       "        514500.,  550200.,  512400.,  520800.,  621600.,  898800.,\n",
       "        459900.,  438900.,  924000.,  756000.,  632100.,  709800.,\n",
       "        905100., 1024800.,  651000.,  766500.,  478800.,  644700.,\n",
       "        913500.,  434700.,  443100.,  529200.,  512400.,  739200.,\n",
       "        680400.,  672000.,  697200.,  695100.,  611100.,  737100.,\n",
       "        953400.,  743400.,  966000.,  676200.,  462000.,  422100.,\n",
       "        487200.,  468300.,  520800.,  598500.,  783300.,  585900.,\n",
       "        501900.,  455700.,  600600.,  569100.,  426300.,  472500.,\n",
       "        609000.,  520800.,  462000.,  554400.,  695100.,  758100.,\n",
       "        596400.,  701400.,  592200.,  478800.,  426300.,  338100.,\n",
       "        464100.,  407400.,  453600.,  499800.,  340200.,  373800.,\n",
       "        415800.,  485100.,  441000.,  499800.,  485100.,  428400.,\n",
       "        388500.,  525000.,  516600.,  483000.,  466200.,  405300.,\n",
       "        474600.,  415800.,  359100.,  407400.,  466200.,  434700.,\n",
       "        443100.,  409500.,  388500.,  432600.,  399000.,  392700.,\n",
       "        686700.,  346500.,  501900.,  655200.,  367500.,  361200.,\n",
       "        485100.,  514500.,  558600.,  480900.,  506100.,  390600.,\n",
       "        632100.,  382200.,  432600.,  373800.,  455700.,  476700.,\n",
       "        474600.,  525000.,  417900.,  436800.,  352800.,  577500.,\n",
       "        459900.,  485100.,  289800.,  289800.,  315000.,  291900.,\n",
       "        279300.,  275100.,  214200.,  218400.,  228900.,  237300.,\n",
       "        258300.,  184800.,  151200.,  220500.,  155400.,  214200.,\n",
       "        241500.,  317100.,  487200.,  203700.,  289800.,  266700.,\n",
       "        275100.,  262500.,  178500.,  105000.,  132300.,  117600.,\n",
       "        151200.,  254100.,  174300.,  178500.,  105000.,  249900.,\n",
       "        585900.,  361200.,  577500.,  315000.,  361200.,  375900.,\n",
       "        342300.,  147000.,  151200.,  157500.,  218400.,  184800.,\n",
       "        176400.,  350700.,  298200.,  436800.,  281400.,  245700.,\n",
       "        174300.,  214200.,  228900.,  231000.,  199500.,  304500.,\n",
       "        296100.,  338100.,  300300.,  245700.,  281400.,  201600.,\n",
       "        182700.,  176400.,  268800.,  220500.,  359100.,  386400.,\n",
       "        323400.,  226800.,  247800.,  312900.,  264600.,  296100.,\n",
       "        273000.,  281400.,  319200.,  338100.,  373800.,  312900.,\n",
       "        296100.,  266700.,  283500.,  312900.,  420000.,  344400.,\n",
       "        371700.,  409500.,  424200.,  449400.,  417900.,  399000.,\n",
       "        401100.,  401100.,  422100.,  417900.,  411600.,  487200.,\n",
       "        625800.,  289800.,  279300.,  350700.,  252000.,  306600.,\n",
       "        449400.,  483000.,  497700.,  525000.,  457800.,  432600.,\n",
       "        445200.,  401100.,  432600.,  319200.,  147000.,  170100.,\n",
       "        285600.,  422100.,  457800.,  514500.,  485100.,  413700.,\n",
       "        384300.,  445200.,  367500.,  352800.,  470400.,  432600.,\n",
       "        501900.,  462000.,  249900.])"
      ]
     },
     "execution_count": 24,
     "metadata": {},
     "output_type": "execute_result"
    }
   ],
   "source": [
    "dependente = df.iloc[:, 3].values\n",
    "dependente"
   ]
  },
  {
   "cell_type": "code",
   "execution_count": 25,
   "metadata": {},
   "outputs": [
    {
     "data": {
      "text/plain": [
       "(489,)"
      ]
     },
     "execution_count": 25,
     "metadata": {},
     "output_type": "execute_result"
    }
   ],
   "source": [
    "dependente.shape"
   ]
  },
  {
   "cell_type": "markdown",
   "metadata": {},
   "source": [
    "### Treino e Teste"
   ]
  },
  {
   "cell_type": "code",
   "execution_count": 26,
   "metadata": {},
   "outputs": [],
   "source": [
    "x_train, x_test, y_train, y_test = train_test_split(independente, dependente, test_size=0.3, random_state=0)"
   ]
  },
  {
   "cell_type": "code",
   "execution_count": 27,
   "metadata": {},
   "outputs": [
    {
     "data": {
      "text/plain": [
       "((342, 3), (147, 3))"
      ]
     },
     "execution_count": 27,
     "metadata": {},
     "output_type": "execute_result"
    }
   ],
   "source": [
    "x_train.shape, x_test.shape"
   ]
  },
  {
   "cell_type": "code",
   "execution_count": 28,
   "metadata": {},
   "outputs": [
    {
     "data": {
      "text/plain": [
       "((342,), (147,))"
      ]
     },
     "execution_count": 28,
     "metadata": {},
     "output_type": "execute_result"
    }
   ],
   "source": [
    "y_train.shape, y_test.shape"
   ]
  },
  {
   "cell_type": "code",
   "execution_count": 29,
   "metadata": {},
   "outputs": [
    {
     "data": {
      "text/html": [
       "<style>#sk-container-id-2 {color: black;}#sk-container-id-2 pre{padding: 0;}#sk-container-id-2 div.sk-toggleable {background-color: white;}#sk-container-id-2 label.sk-toggleable__label {cursor: pointer;display: block;width: 100%;margin-bottom: 0;padding: 0.3em;box-sizing: border-box;text-align: center;}#sk-container-id-2 label.sk-toggleable__label-arrow:before {content: \"▸\";float: left;margin-right: 0.25em;color: #696969;}#sk-container-id-2 label.sk-toggleable__label-arrow:hover:before {color: black;}#sk-container-id-2 div.sk-estimator:hover label.sk-toggleable__label-arrow:before {color: black;}#sk-container-id-2 div.sk-toggleable__content {max-height: 0;max-width: 0;overflow: hidden;text-align: left;background-color: #f0f8ff;}#sk-container-id-2 div.sk-toggleable__content pre {margin: 0.2em;color: black;border-radius: 0.25em;background-color: #f0f8ff;}#sk-container-id-2 input.sk-toggleable__control:checked~div.sk-toggleable__content {max-height: 200px;max-width: 100%;overflow: auto;}#sk-container-id-2 input.sk-toggleable__control:checked~label.sk-toggleable__label-arrow:before {content: \"▾\";}#sk-container-id-2 div.sk-estimator input.sk-toggleable__control:checked~label.sk-toggleable__label {background-color: #d4ebff;}#sk-container-id-2 div.sk-label input.sk-toggleable__control:checked~label.sk-toggleable__label {background-color: #d4ebff;}#sk-container-id-2 input.sk-hidden--visually {border: 0;clip: rect(1px 1px 1px 1px);clip: rect(1px, 1px, 1px, 1px);height: 1px;margin: -1px;overflow: hidden;padding: 0;position: absolute;width: 1px;}#sk-container-id-2 div.sk-estimator {font-family: monospace;background-color: #f0f8ff;border: 1px dotted black;border-radius: 0.25em;box-sizing: border-box;margin-bottom: 0.5em;}#sk-container-id-2 div.sk-estimator:hover {background-color: #d4ebff;}#sk-container-id-2 div.sk-parallel-item::after {content: \"\";width: 100%;border-bottom: 1px solid gray;flex-grow: 1;}#sk-container-id-2 div.sk-label:hover label.sk-toggleable__label {background-color: #d4ebff;}#sk-container-id-2 div.sk-serial::before {content: \"\";position: absolute;border-left: 1px solid gray;box-sizing: border-box;top: 0;bottom: 0;left: 50%;z-index: 0;}#sk-container-id-2 div.sk-serial {display: flex;flex-direction: column;align-items: center;background-color: white;padding-right: 0.2em;padding-left: 0.2em;position: relative;}#sk-container-id-2 div.sk-item {position: relative;z-index: 1;}#sk-container-id-2 div.sk-parallel {display: flex;align-items: stretch;justify-content: center;background-color: white;position: relative;}#sk-container-id-2 div.sk-item::before, #sk-container-id-2 div.sk-parallel-item::before {content: \"\";position: absolute;border-left: 1px solid gray;box-sizing: border-box;top: 0;bottom: 0;left: 50%;z-index: -1;}#sk-container-id-2 div.sk-parallel-item {display: flex;flex-direction: column;z-index: 1;position: relative;background-color: white;}#sk-container-id-2 div.sk-parallel-item:first-child::after {align-self: flex-end;width: 50%;}#sk-container-id-2 div.sk-parallel-item:last-child::after {align-self: flex-start;width: 50%;}#sk-container-id-2 div.sk-parallel-item:only-child::after {width: 0;}#sk-container-id-2 div.sk-dashed-wrapped {border: 1px dashed gray;margin: 0 0.4em 0.5em 0.4em;box-sizing: border-box;padding-bottom: 0.4em;background-color: white;}#sk-container-id-2 div.sk-label label {font-family: monospace;font-weight: bold;display: inline-block;line-height: 1.2em;}#sk-container-id-2 div.sk-label-container {text-align: center;}#sk-container-id-2 div.sk-container {/* jupyter's `normalize.less` sets `[hidden] { display: none; }` but bootstrap.min.css set `[hidden] { display: none !important; }` so we also need the `!important` here to be able to override the default hidden behavior on the sphinx rendered scikit-learn.org. See: https://github.com/scikit-learn/scikit-learn/issues/21755 */display: inline-block !important;position: relative;}#sk-container-id-2 div.sk-text-repr-fallback {display: none;}</style><div id=\"sk-container-id-2\" class=\"sk-top-container\"><div class=\"sk-text-repr-fallback\"><pre>DecisionTreeRegressor(max_depth=5, random_state=10)</pre><b>In a Jupyter environment, please rerun this cell to show the HTML representation or trust the notebook. <br />On GitHub, the HTML representation is unable to render, please try loading this page with nbviewer.org.</b></div><div class=\"sk-container\" hidden><div class=\"sk-item\"><div class=\"sk-estimator sk-toggleable\"><input class=\"sk-toggleable__control sk-hidden--visually\" id=\"sk-estimator-id-2\" type=\"checkbox\" checked><label for=\"sk-estimator-id-2\" class=\"sk-toggleable__label sk-toggleable__label-arrow\">DecisionTreeRegressor</label><div class=\"sk-toggleable__content\"><pre>DecisionTreeRegressor(max_depth=5, random_state=10)</pre></div></div></div></div></div>"
      ],
      "text/plain": [
       "DecisionTreeRegressor(max_depth=5, random_state=10)"
      ]
     },
     "execution_count": 29,
     "metadata": {},
     "output_type": "execute_result"
    }
   ],
   "source": [
    "arvore = DecisionTreeRegressor(max_depth=5, random_state=10)\n",
    "arvore.fit(x_train, y_train)"
   ]
  },
  {
   "cell_type": "markdown",
   "metadata": {},
   "source": [
    "### Treino"
   ]
  },
  {
   "cell_type": "code",
   "execution_count": 30,
   "metadata": {},
   "outputs": [
    {
     "data": {
      "text/plain": [
       "0.9050951127606555"
      ]
     },
     "execution_count": 30,
     "metadata": {},
     "output_type": "execute_result"
    }
   ],
   "source": [
    "arvore.score(x_train, y_train)"
   ]
  },
  {
   "cell_type": "code",
   "execution_count": 31,
   "metadata": {},
   "outputs": [
    {
     "data": {
      "text/plain": [
       "array([449000.        , 597187.5       , 311850.        , 296100.        ,\n",
       "       507223.25581395, 313740.        , 340200.        , 408900.        ,\n",
       "       454268.18181818, 408900.        , 245855.55555556, 313740.        ,\n",
       "       449000.        , 193760.        , 529433.33333333, 348600.        ,\n",
       "       454268.18181818, 507223.25581395, 411075.        , 598823.07692308,\n",
       "       715130.76923077, 789600.        , 193760.        , 449000.        ,\n",
       "       411075.        , 914200.        , 715130.76923077, 914200.        ,\n",
       "       408900.        , 408900.        , 313740.        , 411075.        ,\n",
       "       408900.        , 688380.        , 454268.18181818, 940800.        ,\n",
       "       507223.25581395, 245855.55555556, 507223.25581395, 507223.25581395,\n",
       "       245855.55555556, 411075.        , 453000.        , 507223.25581395,\n",
       "       411075.        , 408900.        , 507223.25581395, 313740.        ,\n",
       "       940800.        , 408900.        , 688380.        , 454268.18181818,\n",
       "       598823.07692308, 313740.        , 715130.76923077, 598823.07692308,\n",
       "       453000.        , 245855.55555556, 507223.25581395, 449000.        ,\n",
       "       311850.        , 245855.55555556, 411075.        , 411075.        ,\n",
       "       408900.        , 411075.        , 245855.55555556, 529433.33333333,\n",
       "       507223.25581395, 245855.55555556, 193760.        , 507223.25581395,\n",
       "       408900.        , 529433.33333333, 245855.55555556, 408900.        ,\n",
       "       597187.5       , 296100.        , 507223.25581395, 408900.        ,\n",
       "       408900.        , 839475.        , 408900.        , 507223.25581395,\n",
       "       454268.18181818, 597187.5       , 507223.25581395, 507223.25581395,\n",
       "       408900.        , 411075.        , 454268.18181818, 411075.        ,\n",
       "       313740.        , 313740.        , 449000.        , 449000.        ,\n",
       "       449000.        , 507223.25581395, 408900.        , 313740.        ,\n",
       "       313740.        , 245855.55555556, 507223.25581395, 449000.        ,\n",
       "       313740.        , 193760.        , 311850.        , 408900.        ,\n",
       "       313740.        , 507223.25581395, 715130.76923077, 454268.18181818,\n",
       "       321300.        , 715130.76923077, 507223.25581395, 507223.25581395,\n",
       "       296100.        , 296100.        , 411075.        , 940800.        ,\n",
       "       597187.5       , 408900.        , 313740.        , 313740.        ,\n",
       "       507223.25581395, 313740.        , 411075.        , 411075.        ,\n",
       "       507223.25581395, 507223.25581395, 408900.        , 507223.25581395,\n",
       "       789600.        , 453000.        , 507223.25581395, 408900.        ,\n",
       "       348600.        , 449000.        , 411075.        , 348600.        ,\n",
       "       453000.        , 245855.55555556, 449000.        , 408900.        ,\n",
       "       193760.        , 313740.        , 597187.5       ])"
      ]
     },
     "execution_count": 31,
     "metadata": {},
     "output_type": "execute_result"
    }
   ],
   "source": [
    "previsoes_train = arvore.predict(x_test)\n",
    "previsoes_train"
   ]
  },
  {
   "cell_type": "markdown",
   "metadata": {},
   "source": [
    "### Teste"
   ]
  },
  {
   "cell_type": "code",
   "execution_count": 32,
   "metadata": {},
   "outputs": [
    {
     "data": {
      "text/plain": [
       "0.8256951550328737"
      ]
     },
     "execution_count": 32,
     "metadata": {},
     "output_type": "execute_result"
    }
   ],
   "source": [
    "arvore.score(x_test, y_test)"
   ]
  },
  {
   "cell_type": "code",
   "execution_count": 33,
   "metadata": {},
   "outputs": [
    {
     "data": {
      "text/plain": [
       "array([449000.        , 597187.5       , 311850.        , 296100.        ,\n",
       "       507223.25581395, 313740.        , 340200.        , 408900.        ,\n",
       "       454268.18181818, 408900.        , 245855.55555556, 313740.        ,\n",
       "       449000.        , 193760.        , 529433.33333333, 348600.        ,\n",
       "       454268.18181818, 507223.25581395, 411075.        , 598823.07692308,\n",
       "       715130.76923077, 789600.        , 193760.        , 449000.        ,\n",
       "       411075.        , 914200.        , 715130.76923077, 914200.        ,\n",
       "       408900.        , 408900.        , 313740.        , 411075.        ,\n",
       "       408900.        , 688380.        , 454268.18181818, 940800.        ,\n",
       "       507223.25581395, 245855.55555556, 507223.25581395, 507223.25581395,\n",
       "       245855.55555556, 411075.        , 453000.        , 507223.25581395,\n",
       "       411075.        , 408900.        , 507223.25581395, 313740.        ,\n",
       "       940800.        , 408900.        , 688380.        , 454268.18181818,\n",
       "       598823.07692308, 313740.        , 715130.76923077, 598823.07692308,\n",
       "       453000.        , 245855.55555556, 507223.25581395, 449000.        ,\n",
       "       311850.        , 245855.55555556, 411075.        , 411075.        ,\n",
       "       408900.        , 411075.        , 245855.55555556, 529433.33333333,\n",
       "       507223.25581395, 245855.55555556, 193760.        , 507223.25581395,\n",
       "       408900.        , 529433.33333333, 245855.55555556, 408900.        ,\n",
       "       597187.5       , 296100.        , 507223.25581395, 408900.        ,\n",
       "       408900.        , 839475.        , 408900.        , 507223.25581395,\n",
       "       454268.18181818, 597187.5       , 507223.25581395, 507223.25581395,\n",
       "       408900.        , 411075.        , 454268.18181818, 411075.        ,\n",
       "       313740.        , 313740.        , 449000.        , 449000.        ,\n",
       "       449000.        , 507223.25581395, 408900.        , 313740.        ,\n",
       "       313740.        , 245855.55555556, 507223.25581395, 449000.        ,\n",
       "       313740.        , 193760.        , 311850.        , 408900.        ,\n",
       "       313740.        , 507223.25581395, 715130.76923077, 454268.18181818,\n",
       "       321300.        , 715130.76923077, 507223.25581395, 507223.25581395,\n",
       "       296100.        , 296100.        , 411075.        , 940800.        ,\n",
       "       597187.5       , 408900.        , 313740.        , 313740.        ,\n",
       "       507223.25581395, 313740.        , 411075.        , 411075.        ,\n",
       "       507223.25581395, 507223.25581395, 408900.        , 507223.25581395,\n",
       "       789600.        , 453000.        , 507223.25581395, 408900.        ,\n",
       "       348600.        , 449000.        , 411075.        , 348600.        ,\n",
       "       453000.        , 245855.55555556, 449000.        , 408900.        ,\n",
       "       193760.        , 313740.        , 597187.5       ])"
      ]
     },
     "execution_count": 33,
     "metadata": {},
     "output_type": "execute_result"
    }
   ],
   "source": [
    "previsoes_test = arvore.predict(x_test)\n",
    "previsoes_test"
   ]
  },
  {
   "cell_type": "code",
   "execution_count": 34,
   "metadata": {},
   "outputs": [
    {
     "data": {
      "text/plain": [
       "array([ 417900.,  632100.,  281400.,  577500.,  474600.,  359100.,\n",
       "        247800.,  474600.,  449400.,  411600.,  214200.,  214200.,\n",
       "        428400.,  375900.,  577500.,  327600.,  420000.,  489300.,\n",
       "        470400.,  640500.,  651000.,  690900.,  147000.,  441000.,\n",
       "        367500.,  966000.,  756000.,  888300.,  455700.,  445200.,\n",
       "        323400.,  455700.,  430500.,  867300.,  445200.,  875700.,\n",
       "        415800.,  268800.,  590100.,  497700.,  231000.,  315000.,\n",
       "        388500.,  449400.,  413700.,  352800.,  453600.,  306600.,\n",
       "        898800.,  514500.,  743400.,  474600.,  600600.,  304500.,\n",
       "        661500.,  489300.,  422100.,  184800.,  525000.,  249900.,\n",
       "        407400.,  361200.,  428400.,  392700.,  428400.,  472500.,\n",
       "        258300.,  550200.,  346500.,  199500.,  302400.,  611100.,\n",
       "        396900.,  585900.,  279300.,  483000.,  462000.,  218400.,\n",
       "        518700.,  420000.,  392700.,  980700.,  455700.,  514500.,\n",
       "        480900.,  520800.,  485100.,  525000.,  390600.,  569100.,\n",
       "        359100.,  346500.,  283500.,  344400.,  459900.,  464100.,\n",
       "        432600.,  617400.,  449400.,  289800.,  174300.,  275100.,\n",
       "        661500.,  411600.,  275100.,  132300.,  357000.,  483000.,\n",
       "        285600.,  493500.,  701400.,  405300.,  338100.,  743400.,\n",
       "        682500.,  466200.,  176400.,  373800.,  394800., 1014300.,\n",
       "        636300.,  228900.,  262500.,  350700.,  567000.,  417900.,\n",
       "        407400.,  415800.,  525000.,  506100.,  348600.,  474600.,\n",
       "        760200.,  485100.,  602700.,  432600.,  380100.,  438900.,\n",
       "        430500.,  319200.,  365400.,  285600.,  474600.,  382200.,\n",
       "        176400.,  312900.,  693000.])"
      ]
     },
     "execution_count": 34,
     "metadata": {},
     "output_type": "execute_result"
    }
   ],
   "source": [
    "y_test"
   ]
  },
  {
   "cell_type": "markdown",
   "metadata": {},
   "source": [
    "### Métricas"
   ]
  },
  {
   "cell_type": "code",
   "execution_count": 35,
   "metadata": {},
   "outputs": [
    {
     "name": "stdout",
     "output_type": "stream",
     "text": [
      "Erro médio absoluto: 52954.00426293284\n",
      "Erro quadrático médio: 5057266756.343771\n",
      "Raiz do erro quadrático médio (RMSE): 71114.46235713077\n"
     ]
    }
   ],
   "source": [
    "erro_medio = mean_absolute_error(y_test, previsoes_test)\n",
    "erro_quadratico = mean_squared_error(y_test, previsoes_test)\n",
    "raiz_erro = np.sqrt(mean_squared_error(y_test, previsoes_test))\n",
    "\n",
    "print(f\"Erro médio absoluto: {erro_medio}\")\n",
    "print(f\"Erro quadrático médio: {erro_quadratico}\")\n",
    "print(f\"Raiz do erro quadrático médio (RMSE): {raiz_erro}\")"
   ]
  },
  {
   "cell_type": "markdown",
   "metadata": {},
   "source": [
    "### Validação Cruzada"
   ]
  },
  {
   "cell_type": "code",
   "execution_count": 36,
   "metadata": {},
   "outputs": [],
   "source": [
    "modelo_kfold = KFold(n_splits=15, shuffle=True, random_state=5)"
   ]
  },
  {
   "cell_type": "markdown",
   "metadata": {},
   "source": [
    "### Criando o modelo"
   ]
  },
  {
   "cell_type": "code",
   "execution_count": 37,
   "metadata": {},
   "outputs": [
    {
     "data": {
      "text/plain": [
       "array([0.9107871 , 0.91994845, 0.70416127, 0.79571349, 0.64537243,\n",
       "       0.62424022, 0.83188854, 0.77916943, 0.75453468, 0.45125985,\n",
       "       0.92525406, 0.72678715, 0.74446726, 0.84424137, 0.56581873])"
      ]
     },
     "execution_count": 37,
     "metadata": {},
     "output_type": "execute_result"
    }
   ],
   "source": [
    "modelo = DecisionTreeRegressor(max_depth=5)\n",
    "resultado = cross_val_score(modelo, independente, dependente, cv=modelo_kfold)\n",
    "resultado"
   ]
  },
  {
   "cell_type": "code",
   "execution_count": 38,
   "metadata": {},
   "outputs": [
    {
     "name": "stdout",
     "output_type": "stream",
     "text": [
      "Coeficiente de Determinação Médio: 74.82%\n"
     ]
    }
   ],
   "source": [
    "# Usamos a média e o desvio padrão \n",
    "print(\"Coeficiente de Determinação Médio: %.2f%%\" % (resultado.mean() * 100.0))"
   ]
  },
  {
   "cell_type": "markdown",
   "metadata": {},
   "source": [
    "***RESULTADOS:***\n",
    "\n",
    "**REGRESSÃO LINEAR SIMPLES:** R^2 = 0,57/0,60; RMSE = 99315,5; R^2 Validação Cruzada: 55,97%\n",
    "\n",
    "**REGRESSÃO LINEAR MÚLTIPLA:** R^2 = 0,73/0,68; RMSE = 96087,3; R^2 Validação Cruzada: 69,25%\n",
    "\n",
    "**REGRESSÃO POLINOMIAL:** R^2 = 0,59/0,54; RMSE = 114670,6.\n",
    "\n",
    "**REGRESSÃO SVR:** R^2 = 0,87/0,81; RMSE = 73422,7. R^2 Validação Cruzada: 82,37%.\n",
    "\n",
    "**REGRESSÃO ÁRVORE DE DECISÃO:** R^2 = 0,91/0,83; RMSE = 71114,5. R^2 Validação Cruzada: 74,60%."
   ]
  },
  {
   "cell_type": "markdown",
   "metadata": {},
   "source": []
  },
  {
   "cell_type": "markdown",
   "metadata": {},
   "source": []
  }
 ],
 "metadata": {
  "kernelspec": {
   "display_name": "venv",
   "language": "python",
   "name": "python3"
  },
  "language_info": {
   "codemirror_mode": {
    "name": "ipython",
    "version": 3
   },
   "file_extension": ".py",
   "mimetype": "text/x-python",
   "name": "python",
   "nbconvert_exporter": "python",
   "pygments_lexer": "ipython3",
   "version": "3.10.9"
  }
 },
 "nbformat": 4,
 "nbformat_minor": 2
}
