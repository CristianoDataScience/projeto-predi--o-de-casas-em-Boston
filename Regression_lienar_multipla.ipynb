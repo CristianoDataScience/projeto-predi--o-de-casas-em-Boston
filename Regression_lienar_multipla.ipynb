{
 "cells": [
  {
   "cell_type": "markdown",
   "metadata": {},
   "source": [
    "#### Regressão Linear Multipla"
   ]
  },
  {
   "cell_type": "code",
   "execution_count": 1,
   "metadata": {},
   "outputs": [],
   "source": [
    "import pandas as pd\n",
    "import numpy as np\n",
    "import matplotlib.pyplot as plt\n",
    "import plotly.express as px\n",
    "import matplotlib.pyplot as plt\n",
    "import seaborn as sns\n",
    "import warnings\n",
    "import scipy.stats as stats\n",
    "import statsmodels\n",
    "from statsmodels.stats.diagnostic import lilliefors\n",
    "from sklearn.model_selection import train_test_split\n",
    "from sklearn.linear_model import LinearRegression\n",
    "from sklearn.metrics import mean_absolute_error, mean_squared_error"
   ]
  },
  {
   "cell_type": "code",
   "execution_count": 2,
   "metadata": {},
   "outputs": [
    {
     "data": {
      "text/html": [
       "<div>\n",
       "<style scoped>\n",
       "    .dataframe tbody tr th:only-of-type {\n",
       "        vertical-align: middle;\n",
       "    }\n",
       "\n",
       "    .dataframe tbody tr th {\n",
       "        vertical-align: top;\n",
       "    }\n",
       "\n",
       "    .dataframe thead th {\n",
       "        text-align: right;\n",
       "    }\n",
       "</style>\n",
       "<table border=\"1\" class=\"dataframe\">\n",
       "  <thead>\n",
       "    <tr style=\"text-align: right;\">\n",
       "      <th></th>\n",
       "      <th>RM</th>\n",
       "      <th>LSTAT</th>\n",
       "      <th>PTRATIO</th>\n",
       "      <th>MEDV</th>\n",
       "    </tr>\n",
       "  </thead>\n",
       "  <tbody>\n",
       "    <tr>\n",
       "      <th>0</th>\n",
       "      <td>6.575</td>\n",
       "      <td>4.98</td>\n",
       "      <td>15.3</td>\n",
       "      <td>504000.0</td>\n",
       "    </tr>\n",
       "    <tr>\n",
       "      <th>1</th>\n",
       "      <td>6.421</td>\n",
       "      <td>9.14</td>\n",
       "      <td>17.8</td>\n",
       "      <td>453600.0</td>\n",
       "    </tr>\n",
       "    <tr>\n",
       "      <th>2</th>\n",
       "      <td>7.185</td>\n",
       "      <td>4.03</td>\n",
       "      <td>17.8</td>\n",
       "      <td>728700.0</td>\n",
       "    </tr>\n",
       "    <tr>\n",
       "      <th>3</th>\n",
       "      <td>6.998</td>\n",
       "      <td>2.94</td>\n",
       "      <td>18.7</td>\n",
       "      <td>701400.0</td>\n",
       "    </tr>\n",
       "    <tr>\n",
       "      <th>4</th>\n",
       "      <td>7.147</td>\n",
       "      <td>5.33</td>\n",
       "      <td>18.7</td>\n",
       "      <td>760200.0</td>\n",
       "    </tr>\n",
       "  </tbody>\n",
       "</table>\n",
       "</div>"
      ],
      "text/plain": [
       "      RM  LSTAT  PTRATIO      MEDV\n",
       "0  6.575   4.98     15.3  504000.0\n",
       "1  6.421   9.14     17.8  453600.0\n",
       "2  7.185   4.03     17.8  728700.0\n",
       "3  6.998   2.94     18.7  701400.0\n",
       "4  7.147   5.33     18.7  760200.0"
      ]
     },
     "execution_count": 2,
     "metadata": {},
     "output_type": "execute_result"
    }
   ],
   "source": [
    "df = pd.read_csv(\"housing.csv\", sep=\",\", encoding=\"iso-8859-1\")\n",
    "df.head()"
   ]
  },
  {
   "cell_type": "code",
   "execution_count": 3,
   "metadata": {},
   "outputs": [
    {
     "data": {
      "text/plain": [
       "array([[ 6.575,  4.98 , 15.3  ],\n",
       "       [ 6.421,  9.14 , 17.8  ],\n",
       "       [ 7.185,  4.03 , 17.8  ],\n",
       "       ...,\n",
       "       [ 6.976,  5.64 , 21.   ],\n",
       "       [ 6.794,  6.48 , 21.   ],\n",
       "       [ 6.03 ,  7.88 , 21.   ]])"
      ]
     },
     "execution_count": 3,
     "metadata": {},
     "output_type": "execute_result"
    }
   ],
   "source": [
    "independente = df.iloc[:, 0:3].values\n",
    "independente"
   ]
  },
  {
   "cell_type": "code",
   "execution_count": 4,
   "metadata": {},
   "outputs": [
    {
     "data": {
      "text/plain": [
       "(489, 3)"
      ]
     },
     "execution_count": 4,
     "metadata": {},
     "output_type": "execute_result"
    }
   ],
   "source": [
    "independente.shape"
   ]
  },
  {
   "cell_type": "code",
   "execution_count": 5,
   "metadata": {},
   "outputs": [
    {
     "data": {
      "text/plain": [
       "array([ 504000.,  453600.,  728700.,  701400.,  760200.,  602700.,\n",
       "        480900.,  569100.,  346500.,  396900.,  315000.,  396900.,\n",
       "        455700.,  428400.,  382200.,  417900.,  485100.,  367500.,\n",
       "        424200.,  382200.,  285600.,  411600.,  319200.,  304500.,\n",
       "        327600.,  291900.,  348600.,  310800.,  386400.,  441000.,\n",
       "        266700.,  304500.,  277200.,  275100.,  283500.,  396900.,\n",
       "        420000.,  441000.,  518700.,  646800.,  732900.,  558600.,\n",
       "        531300.,  518700.,  445200.,  405300.,  420000.,  348600.,\n",
       "        302400.,  407400.,  413700.,  430500.,  525000.,  491400.,\n",
       "        396900.,  743400.,  518700.,  663600.,  489300.,  411600.,\n",
       "        392700.,  336000.,  466200.,  525000.,  693000.,  493500.,\n",
       "        407400.,  462000.,  365400.,  438900.,  508200.,  455700.,\n",
       "        478800.,  491400.,  506100.,  449400.,  420000.,  436800.,\n",
       "        445200.,  426300.,  588000.,  501900.,  520800.,  480900.,\n",
       "        501900.,  558600.,  472500.,  466200.,  495600.,  602700.,\n",
       "        474600.,  462000.,  480900.,  525000.,  432600.,  596400.,\n",
       "        449400.,  812700.,  919800.,  697200.,  577500.,  556500.,\n",
       "        390600.,  405300.,  422100.,  409500.,  409500.,  428400.,\n",
       "        415800.,  407400.,  455700.,  478800.,  394800.,  392700.,\n",
       "        388500.,  384300.,  445200.,  403200.,  428400.,  405300.,\n",
       "        462000.,  426300.,  430500.,  363300.,  394800.,  449400.,\n",
       "        329700.,  340200.,  378000.,  300300.,  403200.,  411600.,\n",
       "        483000.,  386400.,  327600.,  380100.,  365400.,  359100.,\n",
       "        279300.,  373800.,  294000.,  302400.,  281400.,  327600.,\n",
       "        247800.,  289800.,  327600.,  306600.,  373800.,  323400.,\n",
       "        451500.,  411600.,  321300.,  407400.,  357000.,  327600.,\n",
       "        275100.,  867300.,  510300.,  489300.,  567000.,  476700.,\n",
       "        525000.,  499800.,  499800.,  468300.,  365400.,  401100.,\n",
       "        485100.,  495600.,  474600.,  617400.,  487200.,  516600.,\n",
       "        627900.,  781200.,  835800.,  760200.,  795900.,  682500.,\n",
       "        554400.,  621600.,  672000.,  625800.,  732900.,  777000.,\n",
       "        640500.,  764400.,  653100.,  611100.,  699300.,  636300.,\n",
       "        726600.,  732900.,  690900.,  506100.,  888300., 1018500.,\n",
       "        474600.,  512400.,  472500.,  512400.,  420000.,  455700.,\n",
       "        405300.,  470400.,  590100.,  497700.,  525000.,  489300.,\n",
       "        602700.,  451500.,  483000.,  560700.,  455700.,  577500.,\n",
       "        632100.,  940800.,  789600.,  663600.,  980700.,  661500.,\n",
       "        510300.,  665700.,  875700., 1014300.,  609000.,  504000.,\n",
       "        527100.,  661500.,  497700.,  489300.,  462000.,  422100.,\n",
       "        466200.,  497700.,  369600.,  388500.,  510300.,  430500.,\n",
       "        514500.,  550200.,  512400.,  520800.,  621600.,  898800.,\n",
       "        459900.,  438900.,  924000.,  756000.,  632100.,  709800.,\n",
       "        905100., 1024800.,  651000.,  766500.,  478800.,  644700.,\n",
       "        913500.,  434700.,  443100.,  529200.,  512400.,  739200.,\n",
       "        680400.,  672000.,  697200.,  695100.,  611100.,  737100.,\n",
       "        953400.,  743400.,  966000.,  676200.,  462000.,  422100.,\n",
       "        487200.,  468300.,  520800.,  598500.,  783300.,  585900.,\n",
       "        501900.,  455700.,  600600.,  569100.,  426300.,  472500.,\n",
       "        609000.,  520800.,  462000.,  554400.,  695100.,  758100.,\n",
       "        596400.,  701400.,  592200.,  478800.,  426300.,  338100.,\n",
       "        464100.,  407400.,  453600.,  499800.,  340200.,  373800.,\n",
       "        415800.,  485100.,  441000.,  499800.,  485100.,  428400.,\n",
       "        388500.,  525000.,  516600.,  483000.,  466200.,  405300.,\n",
       "        474600.,  415800.,  359100.,  407400.,  466200.,  434700.,\n",
       "        443100.,  409500.,  388500.,  432600.,  399000.,  392700.,\n",
       "        686700.,  346500.,  501900.,  655200.,  367500.,  361200.,\n",
       "        485100.,  514500.,  558600.,  480900.,  506100.,  390600.,\n",
       "        632100.,  382200.,  432600.,  373800.,  455700.,  476700.,\n",
       "        474600.,  525000.,  417900.,  436800.,  352800.,  577500.,\n",
       "        459900.,  485100.,  289800.,  289800.,  315000.,  291900.,\n",
       "        279300.,  275100.,  214200.,  218400.,  228900.,  237300.,\n",
       "        258300.,  184800.,  151200.,  220500.,  155400.,  214200.,\n",
       "        241500.,  317100.,  487200.,  203700.,  289800.,  266700.,\n",
       "        275100.,  262500.,  178500.,  105000.,  132300.,  117600.,\n",
       "        151200.,  254100.,  174300.,  178500.,  105000.,  249900.,\n",
       "        585900.,  361200.,  577500.,  315000.,  361200.,  375900.,\n",
       "        342300.,  147000.,  151200.,  157500.,  218400.,  184800.,\n",
       "        176400.,  350700.,  298200.,  436800.,  281400.,  245700.,\n",
       "        174300.,  214200.,  228900.,  231000.,  199500.,  304500.,\n",
       "        296100.,  338100.,  300300.,  245700.,  281400.,  201600.,\n",
       "        182700.,  176400.,  268800.,  220500.,  359100.,  386400.,\n",
       "        323400.,  226800.,  247800.,  312900.,  264600.,  296100.,\n",
       "        273000.,  281400.,  319200.,  338100.,  373800.,  312900.,\n",
       "        296100.,  266700.,  283500.,  312900.,  420000.,  344400.,\n",
       "        371700.,  409500.,  424200.,  449400.,  417900.,  399000.,\n",
       "        401100.,  401100.,  422100.,  417900.,  411600.,  487200.,\n",
       "        625800.,  289800.,  279300.,  350700.,  252000.,  306600.,\n",
       "        449400.,  483000.,  497700.,  525000.,  457800.,  432600.,\n",
       "        445200.,  401100.,  432600.,  319200.,  147000.,  170100.,\n",
       "        285600.,  422100.,  457800.,  514500.,  485100.,  413700.,\n",
       "        384300.,  445200.,  367500.,  352800.,  470400.,  432600.,\n",
       "        501900.,  462000.,  249900.])"
      ]
     },
     "execution_count": 5,
     "metadata": {},
     "output_type": "execute_result"
    }
   ],
   "source": [
    "dependente = df.iloc[:, 3].values\n",
    "dependente"
   ]
  },
  {
   "cell_type": "code",
   "execution_count": 6,
   "metadata": {},
   "outputs": [],
   "source": [
    "# Modelo de treino e teste\n",
    "x_treino, x_teste, y_treino, y_teste = train_test_split(independente, dependente, test_size = 0.3, random_state = 0)"
   ]
  },
  {
   "cell_type": "code",
   "execution_count": 7,
   "metadata": {},
   "outputs": [
    {
     "data": {
      "text/plain": [
       "((342, 3), (147, 3))"
      ]
     },
     "execution_count": 7,
     "metadata": {},
     "output_type": "execute_result"
    }
   ],
   "source": [
    "x_treino.shape, x_teste.shape"
   ]
  },
  {
   "cell_type": "code",
   "execution_count": 8,
   "metadata": {},
   "outputs": [
    {
     "data": {
      "text/html": [
       "<style>#sk-container-id-1 {color: black;}#sk-container-id-1 pre{padding: 0;}#sk-container-id-1 div.sk-toggleable {background-color: white;}#sk-container-id-1 label.sk-toggleable__label {cursor: pointer;display: block;width: 100%;margin-bottom: 0;padding: 0.3em;box-sizing: border-box;text-align: center;}#sk-container-id-1 label.sk-toggleable__label-arrow:before {content: \"▸\";float: left;margin-right: 0.25em;color: #696969;}#sk-container-id-1 label.sk-toggleable__label-arrow:hover:before {color: black;}#sk-container-id-1 div.sk-estimator:hover label.sk-toggleable__label-arrow:before {color: black;}#sk-container-id-1 div.sk-toggleable__content {max-height: 0;max-width: 0;overflow: hidden;text-align: left;background-color: #f0f8ff;}#sk-container-id-1 div.sk-toggleable__content pre {margin: 0.2em;color: black;border-radius: 0.25em;background-color: #f0f8ff;}#sk-container-id-1 input.sk-toggleable__control:checked~div.sk-toggleable__content {max-height: 200px;max-width: 100%;overflow: auto;}#sk-container-id-1 input.sk-toggleable__control:checked~label.sk-toggleable__label-arrow:before {content: \"▾\";}#sk-container-id-1 div.sk-estimator input.sk-toggleable__control:checked~label.sk-toggleable__label {background-color: #d4ebff;}#sk-container-id-1 div.sk-label input.sk-toggleable__control:checked~label.sk-toggleable__label {background-color: #d4ebff;}#sk-container-id-1 input.sk-hidden--visually {border: 0;clip: rect(1px 1px 1px 1px);clip: rect(1px, 1px, 1px, 1px);height: 1px;margin: -1px;overflow: hidden;padding: 0;position: absolute;width: 1px;}#sk-container-id-1 div.sk-estimator {font-family: monospace;background-color: #f0f8ff;border: 1px dotted black;border-radius: 0.25em;box-sizing: border-box;margin-bottom: 0.5em;}#sk-container-id-1 div.sk-estimator:hover {background-color: #d4ebff;}#sk-container-id-1 div.sk-parallel-item::after {content: \"\";width: 100%;border-bottom: 1px solid gray;flex-grow: 1;}#sk-container-id-1 div.sk-label:hover label.sk-toggleable__label {background-color: #d4ebff;}#sk-container-id-1 div.sk-serial::before {content: \"\";position: absolute;border-left: 1px solid gray;box-sizing: border-box;top: 0;bottom: 0;left: 50%;z-index: 0;}#sk-container-id-1 div.sk-serial {display: flex;flex-direction: column;align-items: center;background-color: white;padding-right: 0.2em;padding-left: 0.2em;position: relative;}#sk-container-id-1 div.sk-item {position: relative;z-index: 1;}#sk-container-id-1 div.sk-parallel {display: flex;align-items: stretch;justify-content: center;background-color: white;position: relative;}#sk-container-id-1 div.sk-item::before, #sk-container-id-1 div.sk-parallel-item::before {content: \"\";position: absolute;border-left: 1px solid gray;box-sizing: border-box;top: 0;bottom: 0;left: 50%;z-index: -1;}#sk-container-id-1 div.sk-parallel-item {display: flex;flex-direction: column;z-index: 1;position: relative;background-color: white;}#sk-container-id-1 div.sk-parallel-item:first-child::after {align-self: flex-end;width: 50%;}#sk-container-id-1 div.sk-parallel-item:last-child::after {align-self: flex-start;width: 50%;}#sk-container-id-1 div.sk-parallel-item:only-child::after {width: 0;}#sk-container-id-1 div.sk-dashed-wrapped {border: 1px dashed gray;margin: 0 0.4em 0.5em 0.4em;box-sizing: border-box;padding-bottom: 0.4em;background-color: white;}#sk-container-id-1 div.sk-label label {font-family: monospace;font-weight: bold;display: inline-block;line-height: 1.2em;}#sk-container-id-1 div.sk-label-container {text-align: center;}#sk-container-id-1 div.sk-container {/* jupyter's `normalize.less` sets `[hidden] { display: none; }` but bootstrap.min.css set `[hidden] { display: none !important; }` so we also need the `!important` here to be able to override the default hidden behavior on the sphinx rendered scikit-learn.org. See: https://github.com/scikit-learn/scikit-learn/issues/21755 */display: inline-block !important;position: relative;}#sk-container-id-1 div.sk-text-repr-fallback {display: none;}</style><div id=\"sk-container-id-1\" class=\"sk-top-container\"><div class=\"sk-text-repr-fallback\"><pre>LinearRegression()</pre><b>In a Jupyter environment, please rerun this cell to show the HTML representation or trust the notebook. <br />On GitHub, the HTML representation is unable to render, please try loading this page with nbviewer.org.</b></div><div class=\"sk-container\" hidden><div class=\"sk-item\"><div class=\"sk-estimator sk-toggleable\"><input class=\"sk-toggleable__control sk-hidden--visually\" id=\"sk-estimator-id-1\" type=\"checkbox\" checked><label for=\"sk-estimator-id-1\" class=\"sk-toggleable__label sk-toggleable__label-arrow\">LinearRegression</label><div class=\"sk-toggleable__content\"><pre>LinearRegression()</pre></div></div></div></div></div>"
      ],
      "text/plain": [
       "LinearRegression()"
      ]
     },
     "execution_count": 8,
     "metadata": {},
     "output_type": "execute_result"
    }
   ],
   "source": [
    "multipla = LinearRegression()\n",
    "multipla.fit(x_treino, y_treino)"
   ]
  },
  {
   "cell_type": "code",
   "execution_count": 9,
   "metadata": {},
   "outputs": [
    {
     "data": {
      "text/plain": [
       "434789.45509552216"
      ]
     },
     "execution_count": 9,
     "metadata": {},
     "output_type": "execute_result"
    }
   ],
   "source": [
    "multipla.intercept_"
   ]
  },
  {
   "cell_type": "code",
   "execution_count": 10,
   "metadata": {},
   "outputs": [
    {
     "data": {
      "text/plain": [
       "array([ 85325.36412937, -10775.41479323, -20133.58779106])"
      ]
     },
     "execution_count": 10,
     "metadata": {},
     "output_type": "execute_result"
    }
   ],
   "source": [
    "multipla.coef_"
   ]
  },
  {
   "cell_type": "code",
   "execution_count": 11,
   "metadata": {},
   "outputs": [
    {
     "name": "stdout",
     "output_type": "stream",
     "text": [
      "Equação: Valor = 434789.46 + (85325.36)*RM + (-10775.41)*LSTAT + (-20133.59)*PTRATIO\n"
     ]
    }
   ],
   "source": [
    "print(\"Equação: Valor = {:.2f} + ({:.2f})*RM + ({:.2f})*LSTAT + ({:.2f})*PTRATIO\".format(multipla.intercept_, multipla.coef_[0], multipla.coef_[1], multipla.coef_[2]))"
   ]
  },
  {
   "cell_type": "code",
   "execution_count": 12,
   "metadata": {},
   "outputs": [
    {
     "data": {
      "text/plain": [
       "0.7343049403294957"
      ]
     },
     "execution_count": 12,
     "metadata": {},
     "output_type": "execute_result"
    }
   ],
   "source": [
    "# Coeficiente de Determinação\n",
    "multipla.score(x_treino, y_treino)"
   ]
  },
  {
   "cell_type": "markdown",
   "metadata": {},
   "source": [
    "**TESTE**"
   ]
  },
  {
   "cell_type": "code",
   "execution_count": 13,
   "metadata": {},
   "outputs": [
    {
     "data": {
      "text/plain": [
       "array([418504.52251533, 682498.59311161, 310842.03220354, 399602.67212048,\n",
       "       529013.04970446, 364349.16756502, 241564.07559959, 413075.10184459,\n",
       "       476051.89023052, 371925.92192458, 324382.18849665, 357068.87403347,\n",
       "       472650.96518839,  52625.76046357, 486476.7874084 , 312653.08514703,\n",
       "       465067.60969605, 614663.51972717, 383059.21254559, 653229.85415898,\n",
       "       677008.34036381, 653364.33988067,  15201.46316315, 452877.56192735,\n",
       "       360692.75896586, 754677.40725013, 714803.22773315, 754640.19558449,\n",
       "       430756.93101727, 422579.57707332, 378309.3992427 , 461958.22362764,\n",
       "       472103.18520444, 681780.56381622, 457070.41410848, 769207.31373834,\n",
       "       520822.33816699, 261675.315203  , 503180.52774604, 590132.54786611,\n",
       "       324624.03541901, 452521.53520288, 400704.94316867, 498314.39406844,\n",
       "       280336.01343561, 365481.99718596, 525798.46427921, 361547.63013434,\n",
       "       716795.14226269, 407424.79029782, 679886.98036124, 445827.68346551,\n",
       "       614892.98134094, 379658.07625679, 661321.34482299, 584816.44617643,\n",
       "       356509.66463913, 314185.12279838, 485742.94513768, 441585.7886127 ,\n",
       "       455804.41879643, 367447.62881301, 411824.00521038, 412061.87187449,\n",
       "       384960.38184641, 359137.31177623, 234442.80438853, 552767.00346378,\n",
       "       579485.95266231, 312994.81664054,  65423.37345536, 556042.08789611,\n",
       "       352890.35775808, 563287.28415669, 378921.69540287, 431828.00165667,\n",
       "       566436.71381724, 437193.23037808, 568936.042191  , 388555.92352633,\n",
       "       386313.98654738, 698036.15023994, 450387.96692523, 496554.04689896,\n",
       "       507796.60393734, 657676.16492582, 561846.66821757, 521587.80674607,\n",
       "       445963.76825894, 449037.87478755, 447459.94326895, 286717.88132257,\n",
       "       352046.81659074, 422923.93584219, 554971.4642328 , 522256.33847649,\n",
       "       436334.57363247, 601678.77050685, 415425.18402887, 295685.70849702,\n",
       "       271466.40398197, 317197.2284099 , 603001.25368415, 444531.88441283,\n",
       "       395756.31173718, 204475.83124812, 498860.59964223, 444963.94973234,\n",
       "       345894.24876758, 597014.0449488 , 627728.70786773, 449199.96757975,\n",
       "       352453.23256895, 641092.0530539 , 575197.60117015, 505801.62553165,\n",
       "       365318.33413691, 478520.95508588, 362433.95193787, 745580.41707272,\n",
       "       694737.2904259 , 400819.86724877, 365880.15441988, 413265.16095519,\n",
       "       612844.45901273, 378760.99532023, 377829.20383796, 385922.58333196,\n",
       "       595204.43594378, 520480.06028813, 348396.56007956, 555805.80787559,\n",
       "       610678.77998738, 214066.58415411, 550793.5436818 , 408558.75751755,\n",
       "       365742.54079144, 506297.86810894, 365659.23661885, 334336.7330366 ,\n",
       "       390524.5531408 , 260747.17073018, 496618.20759117, 421571.77543735,\n",
       "       167917.40655829, 377444.4864889 , 579714.01987134])"
      ]
     },
     "execution_count": 13,
     "metadata": {},
     "output_type": "execute_result"
    }
   ],
   "source": [
    "previsoes = multipla.predict(x_teste)\n",
    "previsoes"
   ]
  },
  {
   "cell_type": "code",
   "execution_count": 14,
   "metadata": {},
   "outputs": [
    {
     "data": {
      "text/plain": [
       "array([ 417900.,  632100.,  281400.,  577500.,  474600.,  359100.,\n",
       "        247800.,  474600.,  449400.,  411600.,  214200.,  214200.,\n",
       "        428400.,  375900.,  577500.,  327600.,  420000.,  489300.,\n",
       "        470400.,  640500.,  651000.,  690900.,  147000.,  441000.,\n",
       "        367500.,  966000.,  756000.,  888300.,  455700.,  445200.,\n",
       "        323400.,  455700.,  430500.,  867300.,  445200.,  875700.,\n",
       "        415800.,  268800.,  590100.,  497700.,  231000.,  315000.,\n",
       "        388500.,  449400.,  413700.,  352800.,  453600.,  306600.,\n",
       "        898800.,  514500.,  743400.,  474600.,  600600.,  304500.,\n",
       "        661500.,  489300.,  422100.,  184800.,  525000.,  249900.,\n",
       "        407400.,  361200.,  428400.,  392700.,  428400.,  472500.,\n",
       "        258300.,  550200.,  346500.,  199500.,  302400.,  611100.,\n",
       "        396900.,  585900.,  279300.,  483000.,  462000.,  218400.,\n",
       "        518700.,  420000.,  392700.,  980700.,  455700.,  514500.,\n",
       "        480900.,  520800.,  485100.,  525000.,  390600.,  569100.,\n",
       "        359100.,  346500.,  283500.,  344400.,  459900.,  464100.,\n",
       "        432600.,  617400.,  449400.,  289800.,  174300.,  275100.,\n",
       "        661500.,  411600.,  275100.,  132300.,  357000.,  483000.,\n",
       "        285600.,  493500.,  701400.,  405300.,  338100.,  743400.,\n",
       "        682500.,  466200.,  176400.,  373800.,  394800., 1014300.,\n",
       "        636300.,  228900.,  262500.,  350700.,  567000.,  417900.,\n",
       "        407400.,  415800.,  525000.,  506100.,  348600.,  474600.,\n",
       "        760200.,  485100.,  602700.,  432600.,  380100.,  438900.,\n",
       "        430500.,  319200.,  365400.,  285600.,  474600.,  382200.,\n",
       "        176400.,  312900.,  693000.])"
      ]
     },
     "execution_count": 14,
     "metadata": {},
     "output_type": "execute_result"
    }
   ],
   "source": [
    "y_teste"
   ]
  },
  {
   "cell_type": "code",
   "execution_count": 15,
   "metadata": {},
   "outputs": [
    {
     "data": {
      "text/plain": [
       "0.681781412438009"
      ]
     },
     "execution_count": 15,
     "metadata": {},
     "output_type": "execute_result"
    }
   ],
   "source": [
    "# Coeficiente de Determinação\n",
    "multipla.score(x_teste, y_teste)"
   ]
  },
  {
   "cell_type": "code",
   "execution_count": 16,
   "metadata": {},
   "outputs": [
    {
     "data": {
      "text/plain": [
       "array([489630.29051446])"
      ]
     },
     "execution_count": 16,
     "metadata": {},
     "output_type": "execute_result"
    }
   ],
   "source": [
    "# Fazendo previsões para valores distintos\n",
    "valor_casa = multipla.predict([[6,20,12]])\n",
    "valor_casa"
   ]
  },
  {
   "cell_type": "markdown",
   "metadata": {},
   "source": [
    "**MÉTRICAS**"
   ]
  },
  {
   "cell_type": "code",
   "execution_count": 17,
   "metadata": {},
   "outputs": [
    {
     "data": {
      "text/plain": [
       "71651.46435650405"
      ]
     },
     "execution_count": 17,
     "metadata": {},
     "output_type": "execute_result"
    }
   ],
   "source": [
    "# Erro absoluto\n",
    "abs(y_teste - previsoes).mean()"
   ]
  },
  {
   "cell_type": "code",
   "execution_count": 18,
   "metadata": {},
   "outputs": [
    {
     "data": {
      "text/plain": [
       "71651.46435650405"
      ]
     },
     "execution_count": 18,
     "metadata": {},
     "output_type": "execute_result"
    }
   ],
   "source": [
    "# Erro médio Absoluto\n",
    "mean_absolute_error(y_teste, previsoes)"
   ]
  },
  {
   "cell_type": "code",
   "execution_count": 19,
   "metadata": {},
   "outputs": [
    {
     "data": {
      "text/plain": [
       "9232768512.151463"
      ]
     },
     "execution_count": 19,
     "metadata": {},
     "output_type": "execute_result"
    }
   ],
   "source": [
    "# Erro quadrático médio\n",
    "mean_squared_error(y_teste, previsoes)"
   ]
  },
  {
   "cell_type": "code",
   "execution_count": 20,
   "metadata": {},
   "outputs": [
    {
     "data": {
      "text/plain": [
       "96087.2963099257"
      ]
     },
     "execution_count": 20,
     "metadata": {},
     "output_type": "execute_result"
    }
   ],
   "source": [
    "# Raiz do erro quadrático médio\n",
    "np.sqrt(mean_squared_error(y_teste, previsoes))"
   ]
  },
  {
   "cell_type": "markdown",
   "metadata": {},
   "source": [
    "### **Validação Cruzada**"
   ]
  },
  {
   "cell_type": "code",
   "execution_count": 21,
   "metadata": {},
   "outputs": [],
   "source": [
    "from sklearn.model_selection import KFold\n",
    "from sklearn.model_selection import cross_val_score"
   ]
  },
  {
   "cell_type": "code",
   "execution_count": 22,
   "metadata": {},
   "outputs": [],
   "source": [
    "# Separando os dados em folds\n",
    "kfold = KFold(n_splits = 15, shuffle=True, random_state = 5)"
   ]
  },
  {
   "cell_type": "code",
   "execution_count": 23,
   "metadata": {},
   "outputs": [
    {
     "data": {
      "text/plain": [
       "array([0.83061794, 0.77028683, 0.46606666, 0.81532627, 0.79492754,\n",
       "       0.60625828, 0.82164061, 0.7750116 , 0.58744519, 0.74753069,\n",
       "       0.76227037, 0.51253844, 0.71206526, 0.73425176, 0.45176491])"
      ]
     },
     "execution_count": 23,
     "metadata": {},
     "output_type": "execute_result"
    }
   ],
   "source": [
    "# Criando o modelo\n",
    "from sklearn.linear_model import LinearRegression\n",
    "modelo = LinearRegression()\n",
    "resultado = cross_val_score(modelo, independente, dependente, cv = kfold)\n",
    "resultado"
   ]
  },
  {
   "cell_type": "code",
   "execution_count": 24,
   "metadata": {},
   "outputs": [
    {
     "name": "stdout",
     "output_type": "stream",
     "text": [
      "Coeficiente de Determinação Médio: 69.25%\n"
     ]
    }
   ],
   "source": [
    "# Usamos a média e o desvio padrão\n",
    "print(\"Coeficiente de Determinação Médio: %.2f%%\" % (resultado.mean() * 100.0))"
   ]
  },
  {
   "cell_type": "markdown",
   "metadata": {},
   "source": [
    "##### ***REGRESSÃO LINEAR SIMPLES:*** R² = 0,57/0,60; RMSE = 99315,5; R² Validação Cruzada: 55,97%\n",
    "\n",
    "##### ***REGRESSÃO LINEAR MÚLTIPLA:*** R² = 0,73/0,68; RMSE = 96087,3; R² Validação Cruzada: 69,25%"
   ]
  },
  {
   "cell_type": "markdown",
   "metadata": {},
   "source": [
    "### **Avaliando a Regressão Linear Múltipla com Statsmodels**"
   ]
  },
  {
   "cell_type": "code",
   "execution_count": 25,
   "metadata": {},
   "outputs": [],
   "source": [
    "import statsmodels.formula.api as smf\n",
    "import statsmodels.stats.api as sms"
   ]
  },
  {
   "cell_type": "code",
   "execution_count": 26,
   "metadata": {},
   "outputs": [
    {
     "data": {
      "text/html": [
       "<div>\n",
       "<style scoped>\n",
       "    .dataframe tbody tr th:only-of-type {\n",
       "        vertical-align: middle;\n",
       "    }\n",
       "\n",
       "    .dataframe tbody tr th {\n",
       "        vertical-align: top;\n",
       "    }\n",
       "\n",
       "    .dataframe thead th {\n",
       "        text-align: right;\n",
       "    }\n",
       "</style>\n",
       "<table border=\"1\" class=\"dataframe\">\n",
       "  <thead>\n",
       "    <tr style=\"text-align: right;\">\n",
       "      <th></th>\n",
       "      <th>RM</th>\n",
       "      <th>LSTAT</th>\n",
       "      <th>PTRATIO</th>\n",
       "      <th>MEDV</th>\n",
       "    </tr>\n",
       "  </thead>\n",
       "  <tbody>\n",
       "    <tr>\n",
       "      <th>0</th>\n",
       "      <td>6.575</td>\n",
       "      <td>4.98</td>\n",
       "      <td>15.3</td>\n",
       "      <td>504000.0</td>\n",
       "    </tr>\n",
       "    <tr>\n",
       "      <th>1</th>\n",
       "      <td>6.421</td>\n",
       "      <td>9.14</td>\n",
       "      <td>17.8</td>\n",
       "      <td>453600.0</td>\n",
       "    </tr>\n",
       "    <tr>\n",
       "      <th>2</th>\n",
       "      <td>7.185</td>\n",
       "      <td>4.03</td>\n",
       "      <td>17.8</td>\n",
       "      <td>728700.0</td>\n",
       "    </tr>\n",
       "    <tr>\n",
       "      <th>3</th>\n",
       "      <td>6.998</td>\n",
       "      <td>2.94</td>\n",
       "      <td>18.7</td>\n",
       "      <td>701400.0</td>\n",
       "    </tr>\n",
       "    <tr>\n",
       "      <th>4</th>\n",
       "      <td>7.147</td>\n",
       "      <td>5.33</td>\n",
       "      <td>18.7</td>\n",
       "      <td>760200.0</td>\n",
       "    </tr>\n",
       "  </tbody>\n",
       "</table>\n",
       "</div>"
      ],
      "text/plain": [
       "      RM  LSTAT  PTRATIO      MEDV\n",
       "0  6.575   4.98     15.3  504000.0\n",
       "1  6.421   9.14     17.8  453600.0\n",
       "2  7.185   4.03     17.8  728700.0\n",
       "3  6.998   2.94     18.7  701400.0\n",
       "4  7.147   5.33     18.7  760200.0"
      ]
     },
     "execution_count": 26,
     "metadata": {},
     "output_type": "execute_result"
    }
   ],
   "source": [
    "df.head()"
   ]
  },
  {
   "cell_type": "code",
   "execution_count": 27,
   "metadata": {},
   "outputs": [],
   "source": [
    "# Criação do modelo\n",
    "modelo = smf.ols('MEDV ~ RM + LSTAT + PTRATIO', data = df).fit()"
   ]
  },
  {
   "cell_type": "code",
   "execution_count": 28,
   "metadata": {},
   "outputs": [
    {
     "data": {
      "text/plain": [
       "0     -128371.739762\n",
       "1      -71577.148313\n",
       "2       81946.881920\n",
       "3       76551.704130\n",
       "4      148383.407464\n",
       "           ...      \n",
       "484     -1541.448492\n",
       "485     -4797.202628\n",
       "486    -46918.775678\n",
       "487    -61950.456779\n",
       "488   -192725.539836\n",
       "Length: 489, dtype: float64"
      ]
     },
     "execution_count": 28,
     "metadata": {},
     "output_type": "execute_result"
    }
   ],
   "source": [
    "residuos = modelo.resid\n",
    "residuos"
   ]
  },
  {
   "cell_type": "markdown",
   "metadata": {},
   "source": [
    "#### Teste de Normalidade dos resíduos"
   ]
  },
  {
   "cell_type": "code",
   "execution_count": 29,
   "metadata": {},
   "outputs": [],
   "source": [
    "import scipy.stats as stats"
   ]
  },
  {
   "cell_type": "markdown",
   "metadata": {},
   "source": [
    "##### Ho = distribuição normal: p > 0.05\n",
    "##### Ha = distribuição != normal: p <= 0.05\n",
    "\n"
   ]
  },
  {
   "cell_type": "code",
   "execution_count": 30,
   "metadata": {},
   "outputs": [
    {
     "name": "stdout",
     "output_type": "stream",
     "text": [
      "Estatística de teste: 0.9633497595787048\n",
      "p-valor: 1.0876366474121824e-09\n"
     ]
    }
   ],
   "source": [
    "estatistica, p = stats.shapiro(residuos)\n",
    "print(f\"Estatística de teste: {estatistica}\")\n",
    "print(f\"p-valor: {p}\")"
   ]
  },
  {
   "cell_type": "code",
   "execution_count": 31,
   "metadata": {},
   "outputs": [
    {
     "data": {
      "image/png": "[encoded data removed]",
      "text/plain": [
       "<Figure size 640x480 with 1 Axes>"
      ]
     },
     "metadata": {},
     "output_type": "display_data"
    }
   ],
   "source": [
    "stats.probplot(residuos, dist=\"norm\", plot=plt)\n",
    "plt.title(\"Normal Q-Q plot - Resíduos\")\n",
    "plt.show()"
   ]
  },
  {
   "cell_type": "markdown",
   "metadata": {},
   "source": [
    "#### Análise da Homecedasticidade dos resíduos\n",
    "___\n",
    "##### (resíduos com variação constante)"
   ]
  },
  {
   "cell_type": "code",
   "execution_count": 32,
   "metadata": {},
   "outputs": [
    {
     "data": {
      "image/png": "[encoded data removed]",
      "text/plain": [
       "<Figure size 640x480 with 1 Axes>"
      ]
     },
     "metadata": {},
     "output_type": "display_data"
    }
   ],
   "source": [
    "plt.scatter(y=residuos, x=modelo.predict(), color='red')\n",
    "plt.hlines(y=0, xmin=0, xmax=900000, color='orange')\n",
    "plt.ylabel('Resíduos')\n",
    "plt.xlabel('Valores Preditos')\n",
    "plt.show()"
   ]
  },
  {
   "cell_type": "markdown",
   "metadata": {},
   "source": [
    "#### Teste Breusch-Pagan (Homocedasticidade ou heterocedasticidade)\n",
    "- Ho = existe homocedasticidade: p > 0.05\n",
    "- Ha = não existe homocedasticidade: p <= 0.05"
   ]
  },
  {
   "cell_type": "code",
   "execution_count": 33,
   "metadata": {},
   "outputs": [],
   "source": [
    "from statsmodels.compat import lzip"
   ]
  },
  {
   "cell_type": "code",
   "execution_count": 34,
   "metadata": {},
   "outputs": [
    {
     "name": "stdout",
     "output_type": "stream",
     "text": [
      "Estatística de teste: 14.866517741157674\n",
      "p-valor: 0.0019343456956172854\n",
      "f-valor: 5.069079611723637\n",
      "fp-valor: 0.0018260051160025844\n"
     ]
    }
   ],
   "source": [
    "estatistica, p, f, fp = sms.het_breuschpagan(modelo.resid, modelo.model.exog)\n",
    "print(f\"Estatística de teste: {estatistica}\")\n",
    "print(f\"p-valor: {p}\")\n",
    "print(f\"f-valor: {f}\")\n",
    "print(f\"fp-valor: {fp}\")"
   ]
  },
  {
   "cell_type": "markdown",
   "metadata": {},
   "source": [
    "##### Outliers nos resíduos"
   ]
  },
  {
   "cell_type": "code",
   "execution_count": 35,
   "metadata": {},
   "outputs": [
    {
     "data": {
      "text/plain": [
       "student_resid    3.887418\n",
       "unadj_p          0.999502\n",
       "bonf(p)          1.000000\n",
       "dtype: float64"
      ]
     },
     "execution_count": 35,
     "metadata": {},
     "output_type": "execute_result"
    }
   ],
   "source": [
    "outliers = modelo.outlier_test()\n",
    "outliers.max()"
   ]
  },
  {
   "cell_type": "code",
   "execution_count": 36,
   "metadata": {},
   "outputs": [
    {
     "data": {
      "text/plain": [
       "student_resid   -2.648018\n",
       "unadj_p          0.000115\n",
       "bonf(p)          0.056456\n",
       "dtype: float64"
      ]
     },
     "execution_count": 36,
     "metadata": {},
     "output_type": "execute_result"
    }
   ],
   "source": [
    "outliers.min()"
   ]
  },
  {
   "cell_type": "markdown",
   "metadata": {},
   "source": [
    "#### Ausência de Multicolinearidade\n",
    "- Somente entre as variáveis independentes\n",
    "- Considera multicolinearidade quando r > 0.9"
   ]
  },
  {
   "cell_type": "code",
   "execution_count": 37,
   "metadata": {},
   "outputs": [
    {
     "data": {
      "text/html": [
       "<div>\n",
       "<style scoped>\n",
       "    .dataframe tbody tr th:only-of-type {\n",
       "        vertical-align: middle;\n",
       "    }\n",
       "\n",
       "    .dataframe tbody tr th {\n",
       "        vertical-align: top;\n",
       "    }\n",
       "\n",
       "    .dataframe thead th {\n",
       "        text-align: right;\n",
       "    }\n",
       "</style>\n",
       "<table border=\"1\" class=\"dataframe\">\n",
       "  <thead>\n",
       "    <tr style=\"text-align: right;\">\n",
       "      <th></th>\n",
       "      <th>RM</th>\n",
       "      <th>LSTAT</th>\n",
       "      <th>PTRATIO</th>\n",
       "    </tr>\n",
       "  </thead>\n",
       "  <tbody>\n",
       "    <tr>\n",
       "      <th>0</th>\n",
       "      <td>6.575</td>\n",
       "      <td>4.98</td>\n",
       "      <td>15.3</td>\n",
       "    </tr>\n",
       "    <tr>\n",
       "      <th>1</th>\n",
       "      <td>6.421</td>\n",
       "      <td>9.14</td>\n",
       "      <td>17.8</td>\n",
       "    </tr>\n",
       "    <tr>\n",
       "      <th>2</th>\n",
       "      <td>7.185</td>\n",
       "      <td>4.03</td>\n",
       "      <td>17.8</td>\n",
       "    </tr>\n",
       "    <tr>\n",
       "      <th>3</th>\n",
       "      <td>6.998</td>\n",
       "      <td>2.94</td>\n",
       "      <td>18.7</td>\n",
       "    </tr>\n",
       "    <tr>\n",
       "      <th>4</th>\n",
       "      <td>7.147</td>\n",
       "      <td>5.33</td>\n",
       "      <td>18.7</td>\n",
       "    </tr>\n",
       "  </tbody>\n",
       "</table>\n",
       "</div>"
      ],
      "text/plain": [
       "      RM  LSTAT  PTRATIO\n",
       "0  6.575   4.98     15.3\n",
       "1  6.421   9.14     17.8\n",
       "2  7.185   4.03     17.8\n",
       "3  6.998   2.94     18.7\n",
       "4  7.147   5.33     18.7"
      ]
     },
     "execution_count": 37,
     "metadata": {},
     "output_type": "execute_result"
    }
   ],
   "source": [
    "variaveis = df[['RM', 'LSTAT', 'PTRATIO']]\n",
    "variaveis.head()"
   ]
  },
  {
   "cell_type": "code",
   "execution_count": 38,
   "metadata": {},
   "outputs": [
    {
     "data": {
      "text/html": [
       "<div>\n",
       "<style scoped>\n",
       "    .dataframe tbody tr th:only-of-type {\n",
       "        vertical-align: middle;\n",
       "    }\n",
       "\n",
       "    .dataframe tbody tr th {\n",
       "        vertical-align: top;\n",
       "    }\n",
       "\n",
       "    .dataframe thead th {\n",
       "        text-align: right;\n",
       "    }\n",
       "</style>\n",
       "<table border=\"1\" class=\"dataframe\">\n",
       "  <thead>\n",
       "    <tr style=\"text-align: right;\">\n",
       "      <th></th>\n",
       "      <th>RM</th>\n",
       "      <th>LSTAT</th>\n",
       "      <th>PTRATIO</th>\n",
       "    </tr>\n",
       "  </thead>\n",
       "  <tbody>\n",
       "    <tr>\n",
       "      <th>RM</th>\n",
       "      <td>1.000000</td>\n",
       "      <td>-0.612033</td>\n",
       "      <td>-0.304559</td>\n",
       "    </tr>\n",
       "    <tr>\n",
       "      <th>LSTAT</th>\n",
       "      <td>-0.612033</td>\n",
       "      <td>1.000000</td>\n",
       "      <td>0.360445</td>\n",
       "    </tr>\n",
       "    <tr>\n",
       "      <th>PTRATIO</th>\n",
       "      <td>-0.304559</td>\n",
       "      <td>0.360445</td>\n",
       "      <td>1.000000</td>\n",
       "    </tr>\n",
       "  </tbody>\n",
       "</table>\n",
       "</div>"
      ],
      "text/plain": [
       "               RM     LSTAT   PTRATIO\n",
       "RM       1.000000 -0.612033 -0.304559\n",
       "LSTAT   -0.612033  1.000000  0.360445\n",
       "PTRATIO -0.304559  0.360445  1.000000"
      ]
     },
     "execution_count": 38,
     "metadata": {},
     "output_type": "execute_result"
    }
   ],
   "source": [
    "corelacoes = variaveis.corr(method='pearson')\n",
    "corelacoes"
   ]
  },
  {
   "cell_type": "markdown",
   "metadata": {},
   "source": [
    "#### Análise do Modelo\n",
    "\n",
    "##### Intercept\n",
    "- p_valor para cada coeficiente < 0,05 (estatisticamente significativos).\n",
    "- Adjusted R-squared (explicação do modelo atrevés dos dados).\n",
    "- p_valor da estatística F < 0,05 (valida o modelo de regressão)."
   ]
  },
  {
   "cell_type": "code",
   "execution_count": 39,
   "metadata": {},
   "outputs": [
    {
     "name": "stdout",
     "output_type": "stream",
     "text": [
      "                            OLS Regression Results                            \n",
      "==============================================================================\n",
      "Dep. Variable:                   MEDV   R-squared:                       0.718\n",
      "Model:                            OLS   Adj. R-squared:                  0.716\n",
      "Method:                 Least Squares   F-statistic:                     410.9\n",
      "Date:                Sat, 27 Jan 2024   Prob (F-statistic):          9.96e-133\n",
      "Time:                        15:18:51   Log-Likelihood:                -6259.9\n",
      "No. Observations:                 489   AIC:                         1.253e+04\n",
      "Df Residuals:                     485   BIC:                         1.254e+04\n",
      "Df Model:                           3                                         \n",
      "Covariance Type:            nonrobust                                         \n",
      "==============================================================================\n",
      "                 coef    std err          t      P>|t|      [0.025      0.975]\n",
      "------------------------------------------------------------------------------\n",
      "Intercept   4.155e+05   6.88e+04      6.035      0.000     2.8e+05    5.51e+05\n",
      "RM          8.657e+04   7888.895     10.973      0.000    7.11e+04    1.02e+05\n",
      "LSTAT      -1.085e+04    732.138    -14.819      0.000   -1.23e+04   -9410.786\n",
      "PTRATIO    -1.949e+04   2039.047     -9.559      0.000   -2.35e+04   -1.55e+04\n",
      "==============================================================================\n",
      "Omnibus:                       57.976   Durbin-Watson:                   1.049\n",
      "Prob(Omnibus):                  0.000   Jarque-Bera (JB):               91.413\n",
      "Skew:                           0.772   Prob(JB):                     1.41e-20\n",
      "Kurtosis:                       4.451   Cond. No.                         416.\n",
      "==============================================================================\n",
      "\n",
      "Notes:\n",
      "[1] Standard Errors assume that the covariance matrix of the errors is correctly specified.\n"
     ]
    }
   ],
   "source": [
    "print(modelo.summary())"
   ]
  },
  {
   "cell_type": "markdown",
   "metadata": {},
   "source": [
    "#### ***Equação:*** Valor da casa = 4.155e+05 + 8.657e+04.RM - 1.085e+04.LSTAT + 1.949e+04.PTRATIO\n"
   ]
  },
  {
   "cell_type": "code",
   "execution_count": 40,
   "metadata": {},
   "outputs": [],
   "source": [
    "# Criando uma coluna com previsão\n",
    "df['previsao'] = modelo.fittedvalues"
   ]
  },
  {
   "cell_type": "code",
   "execution_count": 41,
   "metadata": {},
   "outputs": [
    {
     "data": {
      "text/html": [
       "<div>\n",
       "<style scoped>\n",
       "    .dataframe tbody tr th:only-of-type {\n",
       "        vertical-align: middle;\n",
       "    }\n",
       "\n",
       "    .dataframe tbody tr th {\n",
       "        vertical-align: top;\n",
       "    }\n",
       "\n",
       "    .dataframe thead th {\n",
       "        text-align: right;\n",
       "    }\n",
       "</style>\n",
       "<table border=\"1\" class=\"dataframe\">\n",
       "  <thead>\n",
       "    <tr style=\"text-align: right;\">\n",
       "      <th></th>\n",
       "      <th>RM</th>\n",
       "      <th>LSTAT</th>\n",
       "      <th>PTRATIO</th>\n",
       "      <th>MEDV</th>\n",
       "      <th>previsao</th>\n",
       "    </tr>\n",
       "  </thead>\n",
       "  <tbody>\n",
       "    <tr>\n",
       "      <th>0</th>\n",
       "      <td>6.575</td>\n",
       "      <td>4.98</td>\n",
       "      <td>15.3</td>\n",
       "      <td>504000.0</td>\n",
       "      <td>632371.739762</td>\n",
       "    </tr>\n",
       "    <tr>\n",
       "      <th>1</th>\n",
       "      <td>6.421</td>\n",
       "      <td>9.14</td>\n",
       "      <td>17.8</td>\n",
       "      <td>453600.0</td>\n",
       "      <td>525177.148313</td>\n",
       "    </tr>\n",
       "    <tr>\n",
       "      <th>2</th>\n",
       "      <td>7.185</td>\n",
       "      <td>4.03</td>\n",
       "      <td>17.8</td>\n",
       "      <td>728700.0</td>\n",
       "      <td>646753.118080</td>\n",
       "    </tr>\n",
       "    <tr>\n",
       "      <th>3</th>\n",
       "      <td>6.998</td>\n",
       "      <td>2.94</td>\n",
       "      <td>18.7</td>\n",
       "      <td>701400.0</td>\n",
       "      <td>624848.295870</td>\n",
       "    </tr>\n",
       "    <tr>\n",
       "      <th>4</th>\n",
       "      <td>7.147</td>\n",
       "      <td>5.33</td>\n",
       "      <td>18.7</td>\n",
       "      <td>760200.0</td>\n",
       "      <td>611816.592536</td>\n",
       "    </tr>\n",
       "  </tbody>\n",
       "</table>\n",
       "</div>"
      ],
      "text/plain": [
       "      RM  LSTAT  PTRATIO      MEDV       previsao\n",
       "0  6.575   4.98     15.3  504000.0  632371.739762\n",
       "1  6.421   9.14     17.8  453600.0  525177.148313\n",
       "2  7.185   4.03     17.8  728700.0  646753.118080\n",
       "3  6.998   2.94     18.7  701400.0  624848.295870\n",
       "4  7.147   5.33     18.7  760200.0  611816.592536"
      ]
     },
     "execution_count": 41,
     "metadata": {},
     "output_type": "execute_result"
    }
   ],
   "source": [
    "df.head()"
   ]
  },
  {
   "cell_type": "code",
   "execution_count": 42,
   "metadata": {},
   "outputs": [
    {
     "data": {
      "image/png": "[encoded data removed]",
      "text/plain": [
       "<Figure size 500x500 with 1 Axes>"
      ]
     },
     "metadata": {},
     "output_type": "display_data"
    }
   ],
   "source": [
    "sns.lmplot(x='previsao', y='MEDV', data=df);"
   ]
  },
  {
   "cell_type": "code",
   "execution_count": null,
   "metadata": {},
   "outputs": [],
   "source": []
  }
 ],
 "metadata": {
  "kernelspec": {
   "display_name": "venv",
   "language": "python",
   "name": "python3"
  },
  "language_info": {
   "codemirror_mode": {
    "name": "ipython",
    "version": 3
   },
   "file_extension": ".py",
   "mimetype": "text/x-python",
   "name": "python",
   "nbconvert_exporter": "python",
   "pygments_lexer": "ipython3",
   "version": "3.10.9"
  }
 },
 "nbformat": 4,
 "nbformat_minor": 2
}
